{
 "cells": [
  {
   "cell_type": "code",
   "execution_count": 7,
   "metadata": {},
   "outputs": [],
   "source": [
    "import LLM"
   ]
  },
  {
   "cell_type": "code",
   "execution_count": 3,
   "metadata": {},
   "outputs": [],
   "source": [
    "package = __import__(\"LLM\")"
   ]
  },
  {
   "cell_type": "code",
   "execution_count": 6,
   "metadata": {},
   "outputs": [
    {
     "data": {
      "text/plain": [
       "LLM.gemma_2.Gemma_2"
      ]
     },
     "execution_count": 6,
     "metadata": {},
     "output_type": "execute_result"
    }
   ],
   "source": [
    "getattr(package, \"Gemma_2\")"
   ]
  },
  {
   "cell_type": "code",
   "execution_count": null,
   "metadata": {},
   "outputs": [
    {
     "data": {
      "text/plain": [
       "{'__name__': '__main__',\n",
       " '__doc__': 'Automatically created module for IPython interactive environment',\n",
       " '__package__': None,\n",
       " '__loader__': None,\n",
       " '__spec__': None,\n",
       " '__builtin__': <module 'builtins' (built-in)>,\n",
       " '__builtins__': <module 'builtins' (built-in)>,\n",
       " '_ih': ['',\n",
       "  'import LLM',\n",
       "  'package = __import__(LLM)',\n",
       "  'package = __import__(\"LLM\")',\n",
       "  'package',\n",
       "  'package.__geattribute__(\"Gemma_2\")',\n",
       "  'getattr(package, \"Gemma_2\")',\n",
       "  'import LLM',\n",
       "  'globals()',\n",
       "  'globals()[\"Gemma_2\"]',\n",
       "  'globals()[\"Gemma_2\"]',\n",
       "  'globals()[\"Gemma_2\"]',\n",
       "  'globals()'],\n",
       " '_oh': {4: <module 'LLM' from '/home/artanisax/Projects/OOAD/LLMServer/LLM/__init__.py'>,\n",
       "  6: LLM.gemma_2.Gemma_2,\n",
       "  8: {...}},\n",
       " '_dh': [PosixPath('/home/artanisax/Projects/OOAD/LLMServer')],\n",
       " 'In': ['',\n",
       "  'import LLM',\n",
       "  'package = __import__(LLM)',\n",
       "  'package = __import__(\"LLM\")',\n",
       "  'package',\n",
       "  'package.__geattribute__(\"Gemma_2\")',\n",
       "  'getattr(package, \"Gemma_2\")',\n",
       "  'import LLM',\n",
       "  'globals()',\n",
       "  'globals()[\"Gemma_2\"]',\n",
       "  'globals()[\"Gemma_2\"]',\n",
       "  'globals()[\"Gemma_2\"]',\n",
       "  'globals()'],\n",
       " 'Out': {4: <module 'LLM' from '/home/artanisax/Projects/OOAD/LLMServer/LLM/__init__.py'>,\n",
       "  6: LLM.gemma_2.Gemma_2,\n",
       "  8: {...}},\n",
       " 'get_ipython': <bound method InteractiveShell.get_ipython of <ipykernel.zmqshell.ZMQInteractiveShell object at 0x7f90c46049d0>>,\n",
       " 'exit': <IPython.core.autocall.ZMQExitAutocall at 0x7f90b4f01750>,\n",
       " 'quit': <IPython.core.autocall.ZMQExitAutocall at 0x7f90b4f01750>,\n",
       " 'open': <function io.open(file, mode='r', buffering=-1, encoding=None, errors=None, newline=None, closefd=True, opener=None)>,\n",
       " '_': {...},\n",
       " '__': LLM.gemma_2.Gemma_2,\n",
       " '___': <module 'LLM' from '/home/artanisax/Projects/OOAD/LLMServer/LLM/__init__.py'>,\n",
       " '__vsc_ipynb_file__': '/home/artanisax/Projects/OOAD/LLMServer/experiment.ipynb',\n",
       " '_i': 'globals()[\"Gemma_2\"]',\n",
       " '_ii': 'globals()[\"Gemma_2\"]',\n",
       " '_iii': 'globals()[\"Gemma_2\"]',\n",
       " '_i1': 'import LLM',\n",
       " 'LLM': <module 'LLM' from '/home/artanisax/Projects/OOAD/LLMServer/LLM/__init__.py'>,\n",
       " '_i2': 'package = __import__(LLM)',\n",
       " '_i3': 'package = __import__(\"LLM\")',\n",
       " 'package': <module 'LLM' from '/home/artanisax/Projects/OOAD/LLMServer/LLM/__init__.py'>,\n",
       " '_i4': 'package',\n",
       " '_4': <module 'LLM' from '/home/artanisax/Projects/OOAD/LLMServer/LLM/__init__.py'>,\n",
       " '_i5': 'package.__geattribute__(\"Gemma_2\")',\n",
       " '_i6': 'getattr(package, \"Gemma_2\")',\n",
       " '_6': LLM.gemma_2.Gemma_2,\n",
       " '_i7': 'import LLM',\n",
       " '_i8': 'globals()',\n",
       " '_8': {...},\n",
       " '_i9': 'globals()[\"Gemma_2\"]',\n",
       " '_i10': 'globals()[\"Gemma_2\"]',\n",
       " '_i11': 'globals()[\"Gemma_2\"]',\n",
       " '_i12': 'globals()'}"
      ]
     },
     "execution_count": 12,
     "metadata": {},
     "output_type": "execute_result"
    }
   ],
   "source": [
    "globals"
   ]
  }
 ],
 "metadata": {
  "kernelspec": {
   "display_name": "llm",
   "language": "python",
   "name": "python3"
  },
  "language_info": {
   "codemirror_mode": {
    "name": "ipython",
    "version": 3
   },
   "file_extension": ".py",
   "mimetype": "text/x-python",
   "name": "python",
   "nbconvert_exporter": "python",
   "pygments_lexer": "ipython3",
   "version": "3.11.10"
  }
 },
 "nbformat": 4,
 "nbformat_minor": 2
}
